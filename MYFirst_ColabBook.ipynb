{
  "nbformat": 4,
  "nbformat_minor": 0,
  "metadata": {
    "colab": {
      "provenance": [],
      "authorship_tag": "ABX9TyOxqXwVRbJaqIJHeic8rwjx",
      "include_colab_link": true
    },
    "kernelspec": {
      "name": "python3",
      "display_name": "Python 3"
    },
    "language_info": {
      "name": "python"
    }
  },
  "cells": [
    {
      "cell_type": "markdown",
      "metadata": {
        "id": "view-in-github",
        "colab_type": "text"
      },
      "source": [
        "<a href=\"https://colab.research.google.com/github/kyuhyeong1/uav_workshop_uploads/blob/main/MYFirst_ColabBook.ipynb\" target=\"_parent\"><img src=\"https://colab.research.google.com/assets/colab-badge.svg\" alt=\"Open In Colab\"/></a>"
      ]
    },
    {
      "cell_type": "markdown",
      "source": [
        "## Below is a sample program\n"
      ],
      "metadata": {
        "id": "r2lDpVDe5VNV"
      }
    },
    {
      "cell_type": "code",
      "source": [
        "print(\"Hello CNUians & HAnbatialn\")\n"
      ],
      "metadata": {
        "colab": {
          "base_uri": "https://localhost:8080/"
        },
        "id": "t9NCbbZQ5cPR",
        "outputId": "0664453d-a3a4-4269-9961-8fef377670e1"
      },
      "execution_count": 1,
      "outputs": [
        {
          "output_type": "stream",
          "name": "stdout",
          "text": [
            "Hello CNUians & HAnbatialn\n"
          ]
        }
      ]
    },
    {
      "cell_type": "markdown",
      "source": [
        "This is how a command looks like in colab"
      ],
      "metadata": {
        "id": "Yayw17mI5054"
      }
    },
    {
      "cell_type": "code",
      "source": [
        "import numpy as np\n"
      ],
      "metadata": {
        "id": "4P08phdl59MV"
      },
      "execution_count": null,
      "outputs": []
    }
  ]
}